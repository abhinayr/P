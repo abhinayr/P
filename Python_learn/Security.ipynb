{
  "nbformat": 4,
  "nbformat_minor": 0,
  "metadata": {
    "colab": {
      "provenance": []
    },
    "kernelspec": {
      "name": "python3",
      "display_name": "Python 3"
    },
    "language_info": {
      "name": "python"
    }
  },
  "cells": [
    {
      "cell_type": "markdown",
      "source": [
        "# Common Security Vulnerabilities and Best Practices"
      ],
      "metadata": {
        "id": "s7JyLWgdjXGD"
      }
    },
    {
      "cell_type": "markdown",
      "source": [
        "SQL Injection:\n",
        "\n",
        "SQL injection occurs when an attacker is able to inject arbitrary SQL code into a query.\n",
        "\n",
        "Always use parameterized queries or prepared statements to prevent SQL injection."
      ],
      "metadata": {
        "id": "hH-g1QhvjaDV"
      }
    },
    {
      "cell_type": "code",
      "execution_count": null,
      "metadata": {
        "id": "2q_D2ogyiikg"
      },
      "outputs": [],
      "source": [
        "import sqlite3\n",
        "\n",
        "# Connect to SQLite database\n",
        "conn = sqlite3.connect('vehicles.db')\n",
        "cursor = conn.cursor()\n",
        "\n",
        "# Secure function to add a vehicle using parameterized queries\n",
        "def add_vehicle(make, model, year, price, manufacturer_id, owner_id):\n",
        "    cursor.execute('''\n",
        "    INSERT INTO vehicles (make, model, year, price, manufacturer_id, owner_id)\n",
        "    VALUES (?, ?, ?, ?, ?, ?)\n",
        "    ''', (make, model, year, price, manufacturer_id, owner_id))\n",
        "    conn.commit()\n",
        "    return cursor.lastrowid\n",
        "\n",
        "# Example\n",
        "manufacturer_id = 1\n",
        "owner_id = 1\n",
        "vehicle_id = add_vehicle('Toyota', 'Corolla', 2020, 20000, manufacturer_id, owner_id)\n"
      ]
    },
    {
      "cell_type": "markdown",
      "source": [
        "Cross-Site Scripting (XSS):\n",
        "\n",
        "XSS occurs when an attacker injects malicious scripts into content from otherwise trusted websites.\n",
        "\n",
        "If using a web framework like Flask, use templates to escape output."
      ],
      "metadata": {
        "id": "sNnqBrDVjmao"
      }
    },
    {
      "cell_type": "code",
      "source": [
        "from flask import Flask, render_template_string, request\n",
        "\n",
        "app = Flask(__name__)\n",
        "\n",
        "# Example route with input sanitization\n",
        "@app.route('/greet', methods=['GET'])\n",
        "def greet():\n",
        "    name = request.args.get('name', 'World')\n",
        "    safe_name = escape(name)  # Escape user input to prevent XSS\n",
        "    return render_template_string('<h1>Hello, {{ safe_name }}!</h1>', safe_name=safe_name)\n",
        "\n",
        "if __name__ == '__main__':\n",
        "    app.run()\n"
      ],
      "metadata": {
        "id": "ezc3hKv0jxHd"
      },
      "execution_count": null,
      "outputs": []
    },
    {
      "cell_type": "markdown",
      "source": [
        "# Input Validation and Sanitization\n",
        "\n",
        "Validating and sanitizing inputs ensures that the data received by your application is correct and safe to use"
      ],
      "metadata": {
        "id": "VjMAcxkpjx7l"
      }
    },
    {
      "cell_type": "code",
      "source": [
        "import re\n",
        "import sqlite3\n",
        "\n",
        "# Connect to SQLite database\n",
        "conn = sqlite3.connect('vehicles.db')\n",
        "cursor = conn.cursor()\n",
        "\n",
        "# Function to validate vehicle inputs\n",
        "def validate_vehicle(make, model, year, price):\n",
        "    if not re.match(r'^[a-zA-Z0-9\\s]+$', make):\n",
        "        raise ValueError('Invalid make')\n",
        "    if not re.match(r'^[a-zA-Z0-9\\s]+$', model):\n",
        "        raise ValueError('Invalid model')\n",
        "    if not isinstance(year, int) or year < 1886 or year > 2023:  # Assuming valid car years\n",
        "        raise ValueError('Invalid year')\n",
        "    if not isinstance(price, (int, float)) or price < 0:\n",
        "        raise ValueError('Invalid price')\n",
        "\n",
        "# Secure and validated function to add a vehicle\n",
        "def add_vehicle(make, model, year, price, manufacturer_id, owner_id):\n",
        "    validate_vehicle(make, model, year, price)  # Validate inputs\n",
        "    cursor.execute('''\n",
        "    INSERT INTO vehicles (make, model, year, price, manufacturer_id, owner_id)\n",
        "    VALUES (?, ?, ?, ?, ?, ?)\n",
        "    ''', (make, model, year, price, manufacturer_id, owner_id))\n",
        "    conn.commit()\n",
        "    return cursor.lastrowid\n",
        "\n",
        "# Example\n",
        "manufacturer_id = 1\n",
        "owner_id = 1\n",
        "try:\n",
        "    vehicle_id = add_vehicle('Toyota', 'Corolla', 2020, 20000, manufacturer_id, owner_id)\n",
        "except ValueError as e:\n",
        "    print(f\"Input error: {e}\")\n"
      ],
      "metadata": {
        "id": "NqrnctYAkt9O"
      },
      "execution_count": null,
      "outputs": []
    },
    {
      "cell_type": "markdown",
      "source": [
        "# Authentication and Authorization Mechanisms\n",
        "\n",
        "Authentication: Verifying the identity of a user.\n",
        "\n",
        "Authorization: Determining whether a user has permission to perform a certain action."
      ],
      "metadata": {
        "id": "tZHxUNNckti3"
      }
    },
    {
      "cell_type": "code",
      "source": [
        "from flask import Flask, request, jsonify, abort\n",
        "from functools import wraps\n",
        "\n",
        "app = Flask(__name__)\n",
        "\n",
        "# Dummy data for users\n",
        "users = {\n",
        "    'admin': 'password123',\n",
        "    'user1': 'mypassword'\n",
        "}\n",
        "\n",
        "# Dummy roles\n",
        "roles = {\n",
        "    'admin': ['admin'],\n",
        "    'user1': ['user']\n",
        "}\n",
        "\n",
        "# Authentication decorator\n",
        "def check_auth(username, password):\n",
        "    return username in users and users[username] == password\n",
        "\n",
        "def authenticate():\n",
        "    return abort(401, 'Unauthorized')\n",
        "\n",
        "def requires_auth(f):\n",
        "    @wraps(f)\n",
        "    def decorated(*args, **kwargs):\n",
        "        auth = request.authorization\n",
        "        if not auth or not check_auth(auth.username, auth.password):\n",
        "            return authenticate()\n",
        "        return f(*args, **kwargs)\n",
        "    return decorated\n",
        "\n",
        "# Authorization decorator\n",
        "def requires_role(role):\n",
        "    def decorator(f):\n",
        "        @wraps(f)\n",
        "        def decorated(*args, **kwargs):\n",
        "            auth = request.authorization\n",
        "            if not auth or not check_auth(auth.username, auth.password):\n",
        "                return authenticate()\n",
        "            if role not in roles.get(auth.username, []):\n",
        "                return abort(403, 'Forbidden')\n",
        "            return f(*args, **kwargs)\n",
        "        return decorated\n",
        "    return decorator\n",
        "\n",
        "@app.route('/vehicles', methods=['GET'])\n",
        "@requires_auth\n",
        "def get_vehicles():\n",
        "    # Retrieve vehicles logic here\n",
        "    return jsonify({\"vehicles\": []})\n",
        "\n",
        "@app.route('/admin/vehicles', methods=['GET'])\n",
        "@requires_auth\n",
        "@requires_role('admin')\n",
        "def admin_get_vehicles():\n",
        "    # Admin-only retrieve vehicles logic here\n",
        "    return jsonify({\"vehicles\": []})\n",
        "\n",
        "if __name__ == '__main__':\n",
        "    app.run()\n"
      ],
      "metadata": {
        "id": "mIK_pbIfk49r"
      },
      "execution_count": null,
      "outputs": []
    }
  ]
}