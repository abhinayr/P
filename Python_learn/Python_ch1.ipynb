{
  "nbformat": 4,
  "nbformat_minor": 0,
  "metadata": {
    "colab": {
      "provenance": []
    },
    "kernelspec": {
      "name": "python3",
      "display_name": "Python 3"
    },
    "language_info": {
      "name": "python"
    }
  },
  "cells": [
    {
      "cell_type": "markdown",
      "source": [
        "Data Types:"
      ],
      "metadata": {
        "id": "5-QhH7Xvsnip"
      }
    },
    {
      "cell_type": "code",
      "source": [
        "vehicles_db: Dict[int, Vehicle] = {}"
      ],
      "metadata": {
        "id": "hosOiNK8sm0S"
      },
      "execution_count": null,
      "outputs": []
    },
    {
      "cell_type": "code",
      "source": [
        "results = {'front': [], 'left': [], 'right': [], 'back': []}"
      ],
      "metadata": {
        "id": "4dWaGHRYs08W"
      },
      "execution_count": null,
      "outputs": []
    },
    {
      "cell_type": "markdown",
      "source": [
        "Control Flow"
      ],
      "metadata": {
        "id": "032e1xT7ssvJ"
      }
    },
    {
      "cell_type": "code",
      "source": [
        "if vehicle is None:\n",
        "    raise HTTPException(status_code=404, detail=\"Vehicle not found\")"
      ],
      "metadata": {
        "id": "Gk8bHYV6svC0"
      },
      "execution_count": null,
      "outputs": []
    },
    {
      "cell_type": "code",
      "source": [
        "for file in files:\n",
        "    # Save the uploaded file to the temp directory\n"
      ],
      "metadata": {
        "id": "ngHBavLds3GX"
      },
      "execution_count": null,
      "outputs": []
    },
    {
      "cell_type": "markdown",
      "source": [
        "Functions"
      ],
      "metadata": {
        "id": "Ulutm9nYsxK8"
      }
    },
    {
      "cell_type": "code",
      "source": [
        "def preprocess_image(image_path):\n",
        "    img = Image.open(image_path).resize((224, 224))\n",
        "    img_array = tf.keras.preprocessing.image.img_to_array(img)\n",
        "    img_array = np.expand_dims(img_array, axis=0)\n",
        "    return img_array / 255.0"
      ],
      "metadata": {
        "id": "amg4rVeas4jB"
      },
      "execution_count": null,
      "outputs": []
    },
    {
      "cell_type": "code",
      "source": [
        "def classify_image(image_path):\n",
        "    try:\n",
        "        processed_image = preprocess_image(image_path)\n",
        "        prediction = model.predict(processed_image)\n",
        "        return prediction[0][0] < 0.5\n",
        "    except Exception as e:\n",
        "        raise RuntimeError(f\"Error during classification: {e}\")"
      ],
      "metadata": {
        "id": "ykHzchVps6vS"
      },
      "execution_count": null,
      "outputs": []
    },
    {
      "cell_type": "code",
      "source": [
        "def classify_angle(image_path): #Function\n",
        "    processed_image = preprocess_image(image_path)\n",
        "    prediction = angle_model.predict(processed_image)\n",
        "    angles = ['front', 'left', 'right', 'back']\n",
        "    return angles[np.argmax(prediction)]"
      ],
      "metadata": {
        "id": "F2baF9eCtCCk"
      },
      "execution_count": null,
      "outputs": []
    },
    {
      "cell_type": "markdown",
      "source": [
        "OOP in Python"
      ],
      "metadata": {
        "id": "fuXhys58tQgW"
      }
    },
    {
      "cell_type": "code",
      "source": [
        "class Vehicle(BaseModel):\n",
        "    id: Optional[int] = None\n",
        "    make: str\n",
        "    model: str\n",
        "    year: int\n",
        "    price: float\n",
        "    is_sold: bool = False\n"
      ],
      "metadata": {
        "id": "b8DmMOAatS-Y"
      },
      "execution_count": null,
      "outputs": []
    },
    {
      "cell_type": "markdown",
      "source": [
        "Exception Handling"
      ],
      "metadata": {
        "id": "hyy986cxtab4"
      }
    },
    {
      "cell_type": "code",
      "source": [
        "try:\n",
        "    model = tf.keras.models.load_model(model_path)\n",
        "except Exception as e:\n",
        "    raise RuntimeError(f\"Error loading model: {e}\")\n"
      ],
      "metadata": {
        "id": "iQg2kP79tkHm"
      },
      "execution_count": null,
      "outputs": []
    },
    {
      "cell_type": "markdown",
      "source": [
        "File I/O operations"
      ],
      "metadata": {
        "id": "DISB2X04tmMe"
      }
    },
    {
      "cell_type": "code",
      "source": [
        "with open(file_location, \"wb+\") as file_object:\n",
        "    shutil.copyfileobj(file.file, file_object)\n",
        "\n",
        "os.remove(file_location)\n"
      ],
      "metadata": {
        "id": "A7ANVkKKto7s"
      },
      "execution_count": null,
      "outputs": []
    },
    {
      "cell_type": "markdown",
      "source": [
        "Decorators"
      ],
      "metadata": {
        "id": "JIuC26oSv_8g"
      }
    },
    {
      "cell_type": "code",
      "source": [
        "@app.post, @app.get, @app.put, and @app.delete"
      ],
      "metadata": {
        "id": "vd39UKS9wDcl"
      },
      "execution_count": null,
      "outputs": []
    }
  ]
}