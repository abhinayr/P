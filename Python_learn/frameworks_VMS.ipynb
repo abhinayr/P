{
  "nbformat": 4,
  "nbformat_minor": 0,
  "metadata": {
    "colab": {
      "provenance": []
    },
    "kernelspec": {
      "name": "python3",
      "display_name": "Python 3"
    },
    "language_info": {
      "name": "python"
    }
  },
  "cells": [
    {
      "cell_type": "markdown",
      "source": [
        "RESTful APIs:\n",
        "\n",
        "RESTful APIs are used for CRUD operations in the code\n"
      ],
      "metadata": {
        "id": "xCArkCTgqhOK"
      }
    },
    {
      "cell_type": "code",
      "execution_count": null,
      "metadata": {
        "id": "y-A5Ont7qb-n"
      },
      "outputs": [],
      "source": [
        "#Create\n",
        "\n",
        "@app.post(\"/vehicles/\")\n",
        "async def create_vehicle(vehicle: Vehicle):\n",
        "    vehicle.id = len(vehicles_db) + 1\n",
        "    vehicles_db[vehicle.id] = vehicle\n",
        "    return vehicles_db[vehicle.id]\n",
        "\n",
        "#Read\n",
        "\n",
        "@app.get(\"/vehicles/\")\n",
        "async def read_vehicles():\n",
        "    return vehicles_db\n",
        "\n",
        "#Read with ID\n",
        "\n",
        "@app.get(\"/vehicles/{vehicle_id}\")\n",
        "async def read_vehicle(vehicle_id: int):\n",
        "    vehicle = vehicles_db.get(vehicle_id)\n",
        "    if vehicle is None:\n",
        "        raise HTTPException(status_code=404, detail=\"Vehicle not found\")\n",
        "    return vehicle\n",
        "\n",
        "#Update\n",
        "\n",
        "@app.put(\"/vehicles/{vehicle_id}\")\n",
        "async def update_vehicle(vehicle_id: int, vehicle: Vehicle):\n",
        "    if vehicle_id not in vehicles_db:\n",
        "        raise HTTPException(status_code=404, detail=\"Vehicle not found\")\n",
        "    vehicles_db[vehicle_id] = vehicle\n",
        "    return vehicles_db[vehicle_id]\n",
        "\n",
        "#Delete\n",
        "\n",
        "@app.delete(\"/vehicles/{vehicle_id}\")\n",
        "async def delete_vehicle(vehicle_id: int):\n",
        "    if vehicle_id not in vehicles_db:\n",
        "        raise HTTPException(status_code=404, detail=\"Vehicle not found\")\n",
        "    del vehicles_db[vehicle_id]\n",
        "    return {\"message\": \"Vehicle deleted successfully\"}\n"
      ]
    },
    {
      "cell_type": "markdown",
      "source": [
        "HTTP/HTTPS protocols:\n",
        "\n",
        "The code has various HTTP endpoints like Post, Get, Put and Delete to perform the CRUD operations"
      ],
      "metadata": {
        "id": "ygi7H_kCrDWv"
      }
    },
    {
      "cell_type": "markdown",
      "source": [
        "Websockets and asynchronous web frameworks:\n",
        "\n",
        "FastAPI is an asynchronous web framework and is used in this project with async and await for doing I/O operations"
      ],
      "metadata": {
        "id": "4b5Sh4mRrYmi"
      }
    },
    {
      "cell_type": "code",
      "source": [
        "Example:\n",
        "\n",
        "@app.post(\"/classify/\")\n",
        "async def classify_vehicle_image(file: UploadFile = File(...)):\n",
        "    try:\n",
        "        os.makedirs(\"temp\", exist_ok=True)\n",
        "        file_location = f\"temp/{file.filename}\"\n",
        "        with open(file_location, \"wb+\") as file_object:\n",
        "            shutil.copyfileobj(file.file, file_object)\n",
        "\n",
        "        print(f\"File saved to {file_location}\")\n",
        "        is_car = classify_image(file_location)\n",
        "        is_car = bool(is_car)\n",
        "        print(f\"Classification result: {is_car}\")\n",
        "        os.remove(file_location)\n",
        "        return JSONResponse(content={\"is_car\": is_car})\n",
        "\n",
        "    except Exception as e:\n",
        "        print(f\"Error during classification: {str(e)}\")\n",
        "        raise HTTPException(status_code=500, detail=f\"Classification error: {str(e)}\")\n",
        "\n"
      ],
      "metadata": {
        "id": "Op7mbIX6sBiA"
      },
      "execution_count": null,
      "outputs": []
    }
  ]
}