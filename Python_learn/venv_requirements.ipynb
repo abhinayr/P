{
  "nbformat": 4,
  "nbformat_minor": 0,
  "metadata": {
    "colab": {
      "provenance": []
    },
    "kernelspec": {
      "name": "python3",
      "display_name": "Python 3"
    },
    "language_info": {
      "name": "python"
    }
  },
  "cells": [
    {
      "cell_type": "markdown",
      "source": [
        "pip is a package installer for Python.\n",
        "\n",
        "virtualenv is a tool to create isolated Python environments"
      ],
      "metadata": {
        "id": "ZCbduGm9wTd6"
      }
    },
    {
      "cell_type": "code",
      "source": [
        "#creating virtual environment\n",
        "python -m venv venv\n",
        "\n",
        "# Activate the virtual environment\n",
        "venv\\Scripts\\activate"
      ],
      "metadata": {
        "id": "m11VFbuqwg70"
      },
      "execution_count": null,
      "outputs": []
    },
    {
      "cell_type": "markdown",
      "source": [
        "Requirements File:\n",
        "\n"
      ],
      "metadata": {
        "id": "12iFODvhxXHy"
      }
    },
    {
      "cell_type": "code",
      "source": [
        "#Manually creating requirements.txt\n",
        "#Add required dependencies in a .txt file\n",
        "fastapi\n",
        "uvicorn\n",
        "pydantic\n",
        "tensorflow\n",
        "Pillow"
      ],
      "metadata": {
        "id": "dDvLYOWa0Ewm"
      },
      "execution_count": null,
      "outputs": []
    },
    {
      "cell_type": "code",
      "source": [
        "#Generating from the environment\n",
        "pip freeze > requirements.txt"
      ],
      "metadata": {
        "id": "b4ncx7hP1Cub"
      },
      "execution_count": null,
      "outputs": []
    },
    {
      "cell_type": "code",
      "source": [
        "#installing dependencies from requirements.txt file\n",
        "pip install -r requirements.txt"
      ],
      "metadata": {
        "id": "uypnhJlN0ZnU"
      },
      "execution_count": null,
      "outputs": []
    }
  ]
}