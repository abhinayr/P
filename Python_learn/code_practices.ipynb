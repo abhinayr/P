{
  "nbformat": 4,
  "nbformat_minor": 0,
  "metadata": {
    "colab": {
      "provenance": []
    },
    "kernelspec": {
      "name": "python3",
      "display_name": "Python 3"
    },
    "language_info": {
      "name": "python"
    }
  },
  "cells": [
    {
      "cell_type": "markdown",
      "source": [
        "SOLID Principles:\n",
        "\n",
        "The SOLID principles are a set of design principles intended to make software designs more understandable, flexible, and maintainable."
      ],
      "metadata": {
        "id": "cQ7id3dqHMN5"
      }
    },
    {
      "cell_type": "markdown",
      "source": [
        "\n",
        "\n",
        "1.   Single Responsibility Principle (SRP)\n",
        "\n",
        "\n",
        "*   Every class should have a single responsibility, one reason to change.\n"
      ],
      "metadata": {
        "id": "C1P-gCLLHSRi"
      }
    },
    {
      "cell_type": "code",
      "execution_count": null,
      "metadata": {
        "id": "v3mvCVRaHHw7"
      },
      "outputs": [],
      "source": [
        "#Example\n",
        "class Vehicle(BaseModel):\n",
        "    id: Optional[int] = None\n",
        "    make: str\n",
        "    model: str\n",
        "    year: int\n",
        "    price: float\n",
        "    is_sold: bool = False"
      ]
    },
    {
      "cell_type": "markdown",
      "source": [
        "\n",
        "2.   Open/Closed Principle (OCP)\n",
        "\n",
        "\n",
        "*   Software entities should be open for extension but closed for modification.\n",
        "\n",
        "\n",
        "\n"
      ],
      "metadata": {
        "id": "o45LXxJWHsOR"
      }
    },
    {
      "cell_type": "code",
      "source": [
        "#Example\n",
        "@app.post(\"/vehicles/\")\n",
        "async def create_vehicle(vehicle: Vehicle):\n",
        "    vehicle.id = len(vehicles_db) + 1\n",
        "    vehicles_db[vehicle.id] = vehicle\n",
        "    return vehicles_db[vehicle.id]\n"
      ],
      "metadata": {
        "id": "eIYh6wZMH4z1"
      },
      "execution_count": null,
      "outputs": []
    },
    {
      "cell_type": "markdown",
      "source": [
        "# **Design Patterns**"
      ],
      "metadata": {
        "id": "ZHEHeM2eM8bx"
      }
    },
    {
      "cell_type": "markdown",
      "source": [
        "\n",
        "\n",
        "1.   Model-View-Controller (MVC)\n",
        "\n",
        "\n",
        "*   This pattern separates the application into three main components: Model, View, and Controller.\n",
        "\n",
        "\n",
        "\n",
        "\n"
      ],
      "metadata": {
        "id": "9u-ixiOIM_BB"
      }
    },
    {
      "cell_type": "code",
      "source": [
        "#Example\n",
        "\n",
        "#Model: 'Vehicle' class defines the data structure.\n",
        "class Vehicle(BaseModel):\n",
        "    id: Optional[int] = None\n",
        "    make: str\n",
        "    model: str\n",
        "    year: int\n",
        "    price: float\n",
        "    is_sold: bool = False\n",
        "\n",
        "#View: index.html serves as the user interface.\n",
        "<h2>Add a new vehicle</h2>\n",
        "<form id=\"add-vehicle-form\">\n",
        "    <input type=\"text\" id=\"make\" name=\"make\" placeholder=\"Enter make\"><br>\n",
        "    <input type=\"text\" id=\"model\" name=\"model\" placeholder=\"Enter model\"><br>\n",
        "    <input type=\"number\" id=\"year\" name=\"year\" placeholder=\"Enter year\"><br>\n",
        "    <input type=\"number\" id=\"price\" name=\"price\" placeholder=\"Enter price\"><br>\n",
        "    <input type=\"submit\" value=\"Add Vehicle\">\n",
        "</form>\n",
        "\n",
        "#Controller: FastAPI endpoints act as controllers\n",
        "@app.post(\"/vehicles/\")\n",
        "async def create_vehicle(vehicle: Vehicle):\n",
        "    vehicle.id = len(vehicles_db) + 1\n",
        "    vehicles_db[vehicle.id] = vehicle\n",
        "    return vehicles_db[vehicle.id]\n",
        "\n"
      ],
      "metadata": {
        "id": "Yilu5N41NX3L"
      },
      "execution_count": null,
      "outputs": []
    },
    {
      "cell_type": "markdown",
      "source": [
        "# Code Readability, Maintainability, and Scalability"
      ],
      "metadata": {
        "id": "t6J-RYXRNXBd"
      }
    },
    {
      "cell_type": "markdown",
      "source": [
        "Readability: The code is clean and well-structured. Descriptive function names and clear separation of concerns contribute to readability."
      ],
      "metadata": {
        "id": "WiFg0wHSN1Bf"
      }
    },
    {
      "cell_type": "code",
      "source": [
        "#Example\n",
        "@app.get(\"/vehicles/\")\n",
        "async def read_vehicles():\n",
        "    return vehicles_db\n"
      ],
      "metadata": {
        "id": "S8C0thXBN5su"
      },
      "execution_count": null,
      "outputs": []
    },
    {
      "cell_type": "markdown",
      "source": [
        "Maintainability: The use of Pydantic models for data validation and FastAPI for request handling ensures that the code is easy to maintain. Changes in data models or endpoints can be made independently."
      ],
      "metadata": {
        "id": "ODWQIg6rN7jZ"
      }
    },
    {
      "cell_type": "code",
      "source": [
        "#Example\n",
        "class Vehicle(BaseModel):\n",
        "    id: Optional[int] = None\n",
        "    make: str\n",
        "    model: str\n",
        "    year: int\n",
        "    price: float\n",
        "    is_sold: bool = False\n"
      ],
      "metadata": {
        "id": "7uAiTarFN9hu"
      },
      "execution_count": null,
      "outputs": []
    },
    {
      "cell_type": "markdown",
      "source": [
        "Scalability\n",
        "\n",
        "The usage of FastAPI has efficient request handling and suitable for scalable applications"
      ],
      "metadata": {
        "id": "3OYOJMlXOEF9"
      }
    }
  ]
}