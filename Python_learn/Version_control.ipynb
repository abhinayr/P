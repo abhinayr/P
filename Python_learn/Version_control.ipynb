{
  "nbformat": 4,
  "nbformat_minor": 0,
  "metadata": {
    "colab": {
      "provenance": []
    },
    "kernelspec": {
      "name": "python3",
      "display_name": "Python 3"
    },
    "language_info": {
      "name": "python"
    }
  },
  "cells": [
    {
      "cell_type": "markdown",
      "source": [
        "GIT Version Control\n"
      ],
      "metadata": {
        "id": "owR2Wp4A2iau"
      }
    },
    {
      "cell_type": "code",
      "execution_count": null,
      "metadata": {
        "id": "uABLwFqU17yS"
      },
      "outputs": [],
      "source": [
        "# Initialize a Git Repository\n",
        "git init\n",
        "\n",
        "# Clone a Repository\n",
        "git clone https://github.com/abhinayr/vms.git\n",
        "\n",
        "# Check status\n",
        "git status\n",
        "\n",
        "# Add files to commit\n",
        "git add .\n",
        "\n",
        "# Commit changes\n",
        "git commit -m \"First commit\"\n",
        "\n",
        "# Push changes\n",
        "git push origin master\n",
        "\n",
        "# Pull changes\n",
        "git pull origin master\n"
      ]
    },
    {
      "cell_type": "markdown",
      "source": [
        "Gitflow:"
      ],
      "metadata": {
        "id": "3vOmfS233cJx"
      }
    },
    {
      "cell_type": "code",
      "source": [
        "#initialize Gitflow\n",
        "git flow init\n",
        "\n",
        "#create a new branch\n",
        "git flow feature start vms #vms = <feature-name>\n",
        "\n",
        "#work on feature and commit changes\n",
        "git add .\n",
        "git commit -m \"Change name\"\n",
        "\n",
        "#merge new features\n",
        "git flow feature finish feature-name\n",
        "\n",
        "#release the branch\n",
        "git flow release start <release1> #release1 = <release-name>\n",
        "\n",
        "#work on release and commit changes\n",
        "git add .\n",
        "git commit -m \"Release changes\"\n",
        "\n",
        "#Finish the release\n",
        "git flow release finish release1\n",
        "\n",
        "#push changes\n",
        "git push origin <release1>\n",
        "\n"
      ],
      "metadata": {
        "id": "xd6qpwK83fPC"
      },
      "execution_count": null,
      "outputs": []
    },
    {
      "cell_type": "markdown",
      "source": [
        "Collaborative Workflows:\n",
        "\n",
        "pull requests and code reviews"
      ],
      "metadata": {
        "id": "BZe0XIn_4ixy"
      }
    },
    {
      "cell_type": "code",
      "source": [
        "#Fork Repo\n",
        "Go to the repository on GitHub and click \"Fork\" to create your own copy\n",
        "\n",
        "#Clone the forked repository\n",
        "git clone https://github.com/abhinayr/vms.git\n",
        "\n",
        "#Create a new branch\n",
        "git checkout -b feature-branch\n",
        "\n",
        "#Commit\n",
        "git add .\n",
        "git commit -m \"First commit\"\n",
        "\n",
        "#Merge\n",
        "git merge feature-branch\n",
        "\n",
        "#Push\n",
        "git push origin feature-branch\n",
        "\n",
        "#Create a pull request\n",
        "\n"
      ],
      "metadata": {
        "id": "s_msswlI4qiE"
      },
      "execution_count": null,
      "outputs": []
    }
  ]
}