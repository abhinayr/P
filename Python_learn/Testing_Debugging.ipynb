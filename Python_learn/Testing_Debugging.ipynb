{
  "nbformat": 4,
  "nbformat_minor": 0,
  "metadata": {
    "colab": {
      "provenance": []
    },
    "kernelspec": {
      "name": "python3",
      "display_name": "Python 3"
    },
    "language_info": {
      "name": "python"
    }
  },
  "cells": [
    {
      "cell_type": "markdown",
      "source": [
        "# **Testing**"
      ],
      "metadata": {
        "id": "pi8M2wvgsXZG"
      }
    },
    {
      "cell_type": "markdown",
      "source": [
        "Unit Testing:\n",
        "\n",
        "Unit testing involves testing individual components of your application to ensure they work as expected. In Python, we can use the unittest library or other frameworks like pytest."
      ],
      "metadata": {
        "id": "vmvrocEBtbI8"
      }
    },
    {
      "cell_type": "code",
      "execution_count": null,
      "metadata": {
        "id": "o-OA3YamsIfQ"
      },
      "outputs": [],
      "source": [
        "#test_image_classification.py\n",
        "\n",
        "import pytest\n",
        "from image_classification import classify_image\n",
        "\n",
        "def test_classify_car_image():\n",
        "    result = classify_image('test_images/car.jpg')\n",
        "    assert result == 'car', f\"Expected 'car', but got {result}\"\n",
        "\n",
        "def test_classify_non_car_image():\n",
        "    result = classify_image('test_images/not_car.jpg')\n",
        "    assert result == 'not a car', f\"Expected 'not a car', but got {result}\"\n"
      ]
    },
    {
      "cell_type": "markdown",
      "source": [
        "Test-Driven Development:\n",
        "\n",
        "TDD is a development process where you write tests before writing the actual code"
      ],
      "metadata": {
        "id": "so2KxR27ttix"
      }
    },
    {
      "cell_type": "code",
      "source": [
        "#test_angle_classification.py\n",
        "\n",
        "import pytest\n",
        "from image_classification import classify_angle  # This function doesn't exist yet\n",
        "\n",
        "def test_classify_front_angle():\n",
        "    result = classify_angle('test_images/front.jpg')\n",
        "    assert result == 'front', f\"Expected 'front', but got {result}\"\n",
        "\n",
        "def test_classify_left_angle():\n",
        "    result = classify_angle('test_images/left.jpg')\n",
        "    assert result == 'left', f\"Expected 'left', but got {result}\"\n",
        "\n",
        "def test_classify_right_angle():\n",
        "    result = classify_angle('test_images/right.jpg')\n",
        "    assert result == 'right', f\"Expected 'right', but got {result}\"\n",
        "\n",
        "def test_classify_back_angle():\n",
        "    result = classify_angle('test_images/back.jpg')\n",
        "    assert result == 'back', f\"Expected 'back', but got {result}\"\n",
        "\n",
        "#image_classification.py\n",
        "def classify_angle(image_path):\n",
        "\n",
        "    if 'front' in image_path:\n",
        "        return 'front'\n",
        "    elif 'left' in image_path:\n",
        "        return 'left'\n",
        "    elif 'right' in image_path:\n",
        "        return 'right'\n",
        "    elif 'back' in image_path:\n",
        "        return 'back'\n",
        "    else:\n",
        "        return 'unknown'\n"
      ],
      "metadata": {
        "id": "Nw2bn28avHHi"
      },
      "execution_count": null,
      "outputs": []
    },
    {
      "cell_type": "markdown",
      "source": [
        "# **Debugging**\n",
        "\n",
        "Debugging is the process of identifying and removing errors from your code. Effective debugging techniques and tools include print statements\n",
        "\n"
      ],
      "metadata": {
        "id": "1Vaggf-OvZ0w"
      }
    },
    {
      "cell_type": "code",
      "source": [
        "#Add print statements in the code\n",
        "\n",
        "def preprocess_image(image_path): #Function\n",
        "    print(f\"Classifying image: {image_path}\") #DEBUG\n",
        "    try: #Exception Handling : try block\n",
        "        img = Image.open(image_path).resize((224, 224))\n",
        "        img_array = tf.keras.preprocessing.image.img_to_array(img)\n",
        "        img_array = np.expand_dims(img_array, axis=0)\n",
        "        return img_array / 255.0\n",
        "    except Exception as e: #Exception Handling : except block\n",
        "        raise RuntimeError(f\"Error preprocessing image: {e}\")\n"
      ],
      "metadata": {
        "id": "U0LThGZHzKvy"
      },
      "execution_count": null,
      "outputs": []
    },
    {
      "cell_type": "code",
      "source": [
        "#Add breakpoints\n",
        "\n",
        "def classify_image(img_path):\n",
        "    try:\n",
        "        pdb.set_trace()  # Set a breakpoint (pdb is python built in debugger)\n",
        "        img = image.load_img(img_path, target_size=(224, 224))\n",
        "        img_array = image.img_to_array(img)\n",
        "        img_array = np.expand_dims(img_array, axis=0)\n",
        "\n",
        "        prediction = model.predict(img_array)\n",
        "        if prediction[0][0] > 0.5:\n",
        "            return 'car'\n",
        "        else:\n",
        "            return 'not a car'\n",
        "    except Exception as e:\n",
        "        print(f\"Error during classification: {e}\")\n",
        "        return 'error'\n",
        "\n",
        "# Test the function\n",
        "classify_image('test_images/car.jpg')"
      ],
      "metadata": {
        "id": "S7gOmLl_0Ccv"
      },
      "execution_count": null,
      "outputs": []
    },
    {
      "cell_type": "code",
      "source": [
        "# we can use ipdb which is enhanced version of pdb\n",
        "\n",
        "ipdb.set_trace()"
      ],
      "metadata": {
        "id": "SEeLgkMq0iqC"
      },
      "execution_count": null,
      "outputs": []
    },
    {
      "cell_type": "markdown",
      "source": [
        "We can also debug the code using ide debuggers like Visual Studio Code and Pycharm"
      ],
      "metadata": {
        "id": "G_Xs9qQW1RAz"
      }
    }
  ]
}