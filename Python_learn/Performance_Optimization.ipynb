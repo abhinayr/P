{
  "nbformat": 4,
  "nbformat_minor": 0,
  "metadata": {
    "colab": {
      "provenance": []
    },
    "kernelspec": {
      "name": "python3",
      "display_name": "Python 3"
    },
    "language_info": {
      "name": "python"
    }
  },
  "cells": [
    {
      "cell_type": "markdown",
      "source": [
        "# Profiling Python Code:\n",
        "\n",
        "Profiling is the process of measuring the performance of a program to identify bottlenecks. Python provides several tools for profiling, such as cProfile and timeit."
      ],
      "metadata": {
        "id": "Oy267kbAgFvE"
      }
    },
    {
      "cell_type": "code",
      "execution_count": null,
      "metadata": {
        "id": "hVq8y0eTgCUD"
      },
      "outputs": [],
      "source": [
        "# main.py\n",
        "import cProfile #Using cProfile to measure the performance of code\n",
        "import pstats\n",
        "import sqlite3\n",
        "\n",
        "# Connect to SQLite database\n",
        "conn = sqlite3.connect('vehicles.db')\n",
        "cursor = conn.cursor()\n",
        "\n",
        "# Function to retrieve all vehicles\n",
        "def get_all_vehicles():\n",
        "    cursor.execute('SELECT * FROM vehicles')\n",
        "    return cursor.fetchall()\n",
        "\n",
        "# Profile the function\n",
        "def profile_get_all_vehicles():\n",
        "    profiler = cProfile.Profile()\n",
        "    profiler.enable()\n",
        "\n",
        "    vehicles = get_all_vehicles()\n",
        "\n",
        "    profiler.disable()\n",
        "    stats = pstats.Stats(profiler).sort_stats('cumtime')\n",
        "    stats.print_stats()\n",
        "\n",
        "profile_get_all_vehicles()\n"
      ]
    },
    {
      "cell_type": "markdown",
      "source": [
        "# Using Caching Mechanisms (Redis)\n",
        "\n",
        "Caching is a technique to store frequently accessed data in a temporary storage (cache) to reduce access time. Redis is a popular in-memory data structure store that can be used as a cache."
      ],
      "metadata": {
        "id": "OQ7LpkHwgSlG"
      }
    },
    {
      "cell_type": "code",
      "source": [
        "# main.py\n",
        "import redis #to store frequently accessed data and reduce access time.\n",
        "import json\n",
        "import sqlite3\n",
        "\n",
        "# Connect to SQLite database\n",
        "conn = sqlite3.connect('vehicles.db')\n",
        "cursor = conn.cursor()\n",
        "\n",
        "# Connect to Redis\n",
        "r = redis.Redis(host='localhost', port=6379, db=0)\n",
        "\n",
        "# Function to retrieve all vehicles with caching\n",
        "def get_all_vehicles():\n",
        "    # Check if data is in cache\n",
        "    cached_vehicles = r.get('all_vehicles')\n",
        "    if cached_vehicles:\n",
        "        return json.loads(cached_vehicles)\n",
        "\n",
        "    # If not in cache, retrieve from database\n",
        "    cursor.execute('SELECT * FROM vehicles')\n",
        "    vehicles = cursor.fetchall()\n",
        "\n",
        "    # Store the result in cache\n",
        "    r.set('all_vehicles', json.dumps(vehicles), ex=60)  # Cache for 60 seconds\n",
        "    return vehicles\n",
        "\n",
        "# Example usage\n",
        "vehicles = get_all_vehicles()\n",
        "print(vehicles)\n"
      ],
      "metadata": {
        "id": "p4FryncYgV4P"
      },
      "execution_count": null,
      "outputs": []
    },
    {
      "cell_type": "markdown",
      "source": [
        "# Understanding Time and Space Complexity:\n",
        "\n",
        "Time and space complexity are measures of the efficiency of an algorithm. Time complexity is the computational time taken by an algorithm, while space complexity is the amount of memory it uses."
      ],
      "metadata": {
        "id": "3nq-ZA-ggXeq"
      }
    },
    {
      "cell_type": "code",
      "source": [
        "# main.py\n",
        "import sqlite3\n",
        "\n",
        "# Connect to SQLite database\n",
        "conn = sqlite3.connect('vehicles.db')\n",
        "cursor = conn.cursor()\n",
        "\n",
        "# Function to add a vehicle\n",
        "def add_vehicle(make, model, year, price, manufacturer_id, owner_id):\n",
        "    cursor.execute('''\n",
        "    INSERT INTO vehicles (make, model, year, price, manufacturer_id, owner_id)\n",
        "    VALUES (?, ?, ?, ?, ?, ?)\n",
        "    ''', (make, model, year, price, manufacturer_id, owner_id))\n",
        "    conn.commit()\n",
        "    return cursor.lastrowid\n",
        "\n",
        "# Time complexity: O(1) because inserting a record into a database has constant time complexity.\n",
        "# Space complexity: O(1) because the space used for the operation is constant.\n",
        "\n",
        "# Function to retrieve all vehicles\n",
        "def get_all_vehicles():\n",
        "    cursor.execute('SELECT * FROM vehicles')\n",
        "    return cursor.fetchall()\n",
        "\n",
        "# Time complexity: O(n) where n is the number of vehicles in the database. This is because we need to retrieve each vehicle\n",
        "# Space complexity: O(n) because the space required to store the result grows linearly with the number of vehicles\n",
        "\n",
        "# Example usage\n",
        "manufacturer_id = 1  # Assuming a manufacturer with ID 1 exists\n",
        "owner_id = 1  # Assuming an owner with ID 1 exists\n",
        "vehicle_id = add_vehicle('Corolla', 'Sedan', 2020, 20000, manufacturer_id, owner_id)\n",
        "\n",
        "vehicles = get_all_vehicles()\n",
        "print(vehicles)\n"
      ],
      "metadata": {
        "id": "6qHMQEwSgbPk"
      },
      "execution_count": null,
      "outputs": []
    }
  ]
}